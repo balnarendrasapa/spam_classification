{
 "cells": [
  {
   "cell_type": "markdown",
   "id": "000a6ff1",
   "metadata": {},
   "source": [
    "# <center> INTRO TO DATASCIENCE PROJECT - II </center>\n",
    "\n",
    "## <center> Title - Logistic Regression </center>\n",
    "<font size=\"4\"> <center> **FOR:** </center> </font>\n",
    "## <center> Introduction to Data Science - 6002 - Section 2 </center>\n",
    "<center> \n",
    "    <font size=\"3\"> <br> <br> <b> Team 07: </b>\n",
    "        <br> Bal Narendra Sapa\n",
    "        <br> Venkata Krishna Sreekar Padakandla\n",
    "        <br> Sreeja Garlapati\n",
    "        <br> Bharath Kondreddy\n",
    "        <br> Sai Shara Vardhan Bandi\n",
    "    </font>\n",
    "    <font size=\"3\"> <br> <br> <br> <b> Instructor: </b>\n",
    "        <br> Minkyu Kim <br>\n",
    "    </font>\n",
    "</center>\n",
    "\n",
    "---"
   ]
  },
  {
   "cell_type": "markdown",
   "id": "ce1f6c80",
   "metadata": {},
   "source": [
    "# ABSTRACT\n",
    "\n",
    "### Background:\n",
    " We have a dataset that includes data on emails. Because we receive a large number of emails these days, email services have implemented spam detection to filter out unwanted messages. Logistic regression is one method that can be used to identify spam emails. This technique involves using certain characteristics of the emails to build a model that can classify them as spam or not spam\n",
    "### Purpose:\n",
    " The goal of this project is to utilize various characteristics of the emails, such as the sender and recipient, to create a generalized linear model. We will then apply the logit function to this model to transform the output into probabilities. These probabilities, generated from the email attributes, will indicate whether the email is likely to be spam or not.\n",
    "### Methods:\n",
    " We have been provided with 21 attributes. To begin, we have converted the categorical data into numerical data using one-hot encoding. We have then divided the dataset into a training set and a testing set in an 80/20 ratio. Using the stats.model library in Python, we have built a generalized linear model and linked it to the logit function. We have trained this model using the training dataset.\n",
    "### Results:\n",
    " The model produces probabilities that show whether an email is spam or not. We use a threshold of 0.50 or 50% to classify emails. The model's accuracy ranges from 90% to 95%, depending on how the data is randomly divided. We also calculate precision, sensitivity, specificity, and other metrics to evaluate the model's performance.\n",
    "### Conclusion:\n",
    " Our model, which was built using logistic regression and various attributes, is reliable. Based on its accuracy and other metrics, we can confidently say that it is effective at distinguishing spam emails from non-spam emails."
   ]
  },
  {
   "cell_type": "markdown",
   "id": "1d174379",
   "metadata": {},
   "source": [
    "# 1. Business Understanding"
   ]
  },
  {
   "cell_type": "markdown",
   "id": "4299a2c9",
   "metadata": {},
   "source": [
    "The purpose of this project is to develop a spam filter that can identify the probability that an email is spam. We converted the characteristics into numerical data so that we could use logistic regression on it. The filter's ability to provide probabilities allows it to classify emails as spam or not spam. This spam filter enables the email software to offer spam filtering to its users, improving their satisfaction and increasing the number of users of the email service, leading to higher revenue."
   ]
  },
  {
   "cell_type": "markdown",
   "id": "6114e49f",
   "metadata": {},
   "source": [
    "# 2. Data Understanding"
   ]
  },
  {
   "cell_type": "markdown",
   "id": "0aa1ddbe",
   "metadata": {},
   "source": [
    "Before using the data to build a model, it is important to evaluate its quality and identify any missing or irrelevant information. In this case, there are two categorical attributes that need to be converted into numerical data in order to be used in the model. Once these attributes are converted, a threshold is determined based on the quality of the data. Additionally, there is a time attribute that needs to be converted into a format that can be used in the model using the datetime library. After conducting the logistic regression, the p-values for the coefficients in the table can be examined. If the p-value is greater than 0.05, it means that the coefficient does not significantly affect the probability value."
   ]
  },
  {
   "cell_type": "markdown",
   "id": "d7f0a360",
   "metadata": {},
   "source": [
    "# 3. Data Preparation"
   ]
  },
  {
   "cell_type": "markdown",
   "id": "81a6a651",
   "metadata": {},
   "source": [
    "## Importing Libraries"
   ]
  },
  {
   "cell_type": "code",
   "execution_count": 2,
   "id": "ce9a81f8",
   "metadata": {},
   "outputs": [],
   "source": [
    "import math\n",
    "import numpy as np\n",
    "import pandas as pd\n",
    "import seaborn as sns\n",
    "from sqlite3 import connect\n",
    "import matplotlib.pyplot as plt\n",
    "import statsmodels.api as sm"
   ]
  },
  {
   "cell_type": "markdown",
   "id": "cd23dc68",
   "metadata": {},
   "source": [
    "## Retrieving the table from the SQLite database."
   ]
  },
  {
   "cell_type": "code",
   "execution_count": 3,
   "id": "354d0945",
   "metadata": {
    "scrolled": true
   },
   "outputs": [
    {
     "data": {
      "text/html": [
       "<div>\n",
       "<style scoped>\n",
       "    .dataframe tbody tr th:only-of-type {\n",
       "        vertical-align: middle;\n",
       "    }\n",
       "\n",
       "    .dataframe tbody tr th {\n",
       "        vertical-align: top;\n",
       "    }\n",
       "\n",
       "    .dataframe thead th {\n",
       "        text-align: right;\n",
       "    }\n",
       "</style>\n",
       "<table border=\"1\" class=\"dataframe\">\n",
       "  <thead>\n",
       "    <tr style=\"text-align: right;\">\n",
       "      <th></th>\n",
       "      <th>index</th>\n",
       "      <th>spam</th>\n",
       "      <th>to_multiple</th>\n",
       "      <th>from</th>\n",
       "      <th>cc</th>\n",
       "      <th>sent_email</th>\n",
       "      <th>image</th>\n",
       "      <th>attach</th>\n",
       "      <th>dollar</th>\n",
       "      <th>inherit</th>\n",
       "      <th>viagra</th>\n",
       "      <th>password</th>\n",
       "      <th>num_char</th>\n",
       "      <th>line_breaks</th>\n",
       "      <th>format</th>\n",
       "      <th>re_subj</th>\n",
       "      <th>exclaim_subj</th>\n",
       "      <th>urgent_subj</th>\n",
       "      <th>exclaim_mess</th>\n",
       "    </tr>\n",
       "  </thead>\n",
       "  <tbody>\n",
       "    <tr>\n",
       "      <th>count</th>\n",
       "      <td>3921.000000</td>\n",
       "      <td>3921.000000</td>\n",
       "      <td>3921.000000</td>\n",
       "      <td>3921.000000</td>\n",
       "      <td>3921.000000</td>\n",
       "      <td>3921.000000</td>\n",
       "      <td>3921.000000</td>\n",
       "      <td>3921.000000</td>\n",
       "      <td>3921.000000</td>\n",
       "      <td>3921.000000</td>\n",
       "      <td>3921.000000</td>\n",
       "      <td>3921.000000</td>\n",
       "      <td>3921.000000</td>\n",
       "      <td>3921.000000</td>\n",
       "      <td>3921.000000</td>\n",
       "      <td>3921.000000</td>\n",
       "      <td>3921.000000</td>\n",
       "      <td>3921.000000</td>\n",
       "      <td>3921.000000</td>\n",
       "    </tr>\n",
       "    <tr>\n",
       "      <th>mean</th>\n",
       "      <td>1960.000000</td>\n",
       "      <td>0.093599</td>\n",
       "      <td>0.158123</td>\n",
       "      <td>0.999235</td>\n",
       "      <td>0.404489</td>\n",
       "      <td>0.277990</td>\n",
       "      <td>0.048457</td>\n",
       "      <td>0.132874</td>\n",
       "      <td>1.467228</td>\n",
       "      <td>0.038001</td>\n",
       "      <td>0.002040</td>\n",
       "      <td>0.108136</td>\n",
       "      <td>10.706586</td>\n",
       "      <td>230.658505</td>\n",
       "      <td>0.695231</td>\n",
       "      <td>0.261413</td>\n",
       "      <td>0.080337</td>\n",
       "      <td>0.001785</td>\n",
       "      <td>6.584290</td>\n",
       "    </tr>\n",
       "    <tr>\n",
       "      <th>std</th>\n",
       "      <td>1132.039531</td>\n",
       "      <td>0.291307</td>\n",
       "      <td>0.364903</td>\n",
       "      <td>0.027654</td>\n",
       "      <td>2.666424</td>\n",
       "      <td>0.448066</td>\n",
       "      <td>0.450848</td>\n",
       "      <td>0.718518</td>\n",
       "      <td>5.022298</td>\n",
       "      <td>0.267899</td>\n",
       "      <td>0.127759</td>\n",
       "      <td>0.959931</td>\n",
       "      <td>14.645786</td>\n",
       "      <td>319.304959</td>\n",
       "      <td>0.460368</td>\n",
       "      <td>0.439460</td>\n",
       "      <td>0.271848</td>\n",
       "      <td>0.042220</td>\n",
       "      <td>51.479871</td>\n",
       "    </tr>\n",
       "    <tr>\n",
       "      <th>min</th>\n",
       "      <td>0.000000</td>\n",
       "      <td>0.000000</td>\n",
       "      <td>0.000000</td>\n",
       "      <td>0.000000</td>\n",
       "      <td>0.000000</td>\n",
       "      <td>0.000000</td>\n",
       "      <td>0.000000</td>\n",
       "      <td>0.000000</td>\n",
       "      <td>0.000000</td>\n",
       "      <td>0.000000</td>\n",
       "      <td>0.000000</td>\n",
       "      <td>0.000000</td>\n",
       "      <td>0.001000</td>\n",
       "      <td>1.000000</td>\n",
       "      <td>0.000000</td>\n",
       "      <td>0.000000</td>\n",
       "      <td>0.000000</td>\n",
       "      <td>0.000000</td>\n",
       "      <td>0.000000</td>\n",
       "    </tr>\n",
       "    <tr>\n",
       "      <th>25%</th>\n",
       "      <td>980.000000</td>\n",
       "      <td>0.000000</td>\n",
       "      <td>0.000000</td>\n",
       "      <td>1.000000</td>\n",
       "      <td>0.000000</td>\n",
       "      <td>0.000000</td>\n",
       "      <td>0.000000</td>\n",
       "      <td>0.000000</td>\n",
       "      <td>0.000000</td>\n",
       "      <td>0.000000</td>\n",
       "      <td>0.000000</td>\n",
       "      <td>0.000000</td>\n",
       "      <td>1.459000</td>\n",
       "      <td>34.000000</td>\n",
       "      <td>0.000000</td>\n",
       "      <td>0.000000</td>\n",
       "      <td>0.000000</td>\n",
       "      <td>0.000000</td>\n",
       "      <td>0.000000</td>\n",
       "    </tr>\n",
       "    <tr>\n",
       "      <th>50%</th>\n",
       "      <td>1960.000000</td>\n",
       "      <td>0.000000</td>\n",
       "      <td>0.000000</td>\n",
       "      <td>1.000000</td>\n",
       "      <td>0.000000</td>\n",
       "      <td>0.000000</td>\n",
       "      <td>0.000000</td>\n",
       "      <td>0.000000</td>\n",
       "      <td>0.000000</td>\n",
       "      <td>0.000000</td>\n",
       "      <td>0.000000</td>\n",
       "      <td>0.000000</td>\n",
       "      <td>5.856000</td>\n",
       "      <td>119.000000</td>\n",
       "      <td>1.000000</td>\n",
       "      <td>0.000000</td>\n",
       "      <td>0.000000</td>\n",
       "      <td>0.000000</td>\n",
       "      <td>1.000000</td>\n",
       "    </tr>\n",
       "    <tr>\n",
       "      <th>75%</th>\n",
       "      <td>2940.000000</td>\n",
       "      <td>0.000000</td>\n",
       "      <td>0.000000</td>\n",
       "      <td>1.000000</td>\n",
       "      <td>0.000000</td>\n",
       "      <td>1.000000</td>\n",
       "      <td>0.000000</td>\n",
       "      <td>0.000000</td>\n",
       "      <td>0.000000</td>\n",
       "      <td>0.000000</td>\n",
       "      <td>0.000000</td>\n",
       "      <td>0.000000</td>\n",
       "      <td>14.084000</td>\n",
       "      <td>298.000000</td>\n",
       "      <td>1.000000</td>\n",
       "      <td>1.000000</td>\n",
       "      <td>0.000000</td>\n",
       "      <td>0.000000</td>\n",
       "      <td>4.000000</td>\n",
       "    </tr>\n",
       "    <tr>\n",
       "      <th>max</th>\n",
       "      <td>3920.000000</td>\n",
       "      <td>1.000000</td>\n",
       "      <td>1.000000</td>\n",
       "      <td>1.000000</td>\n",
       "      <td>68.000000</td>\n",
       "      <td>1.000000</td>\n",
       "      <td>20.000000</td>\n",
       "      <td>21.000000</td>\n",
       "      <td>64.000000</td>\n",
       "      <td>9.000000</td>\n",
       "      <td>8.000000</td>\n",
       "      <td>28.000000</td>\n",
       "      <td>190.087000</td>\n",
       "      <td>4022.000000</td>\n",
       "      <td>1.000000</td>\n",
       "      <td>1.000000</td>\n",
       "      <td>1.000000</td>\n",
       "      <td>1.000000</td>\n",
       "      <td>1236.000000</td>\n",
       "    </tr>\n",
       "  </tbody>\n",
       "</table>\n",
       "</div>"
      ],
      "text/plain": [
       "             index         spam  to_multiple         from           cc  \\\n",
       "count  3921.000000  3921.000000  3921.000000  3921.000000  3921.000000   \n",
       "mean   1960.000000     0.093599     0.158123     0.999235     0.404489   \n",
       "std    1132.039531     0.291307     0.364903     0.027654     2.666424   \n",
       "min       0.000000     0.000000     0.000000     0.000000     0.000000   \n",
       "25%     980.000000     0.000000     0.000000     1.000000     0.000000   \n",
       "50%    1960.000000     0.000000     0.000000     1.000000     0.000000   \n",
       "75%    2940.000000     0.000000     0.000000     1.000000     0.000000   \n",
       "max    3920.000000     1.000000     1.000000     1.000000    68.000000   \n",
       "\n",
       "        sent_email        image       attach       dollar      inherit  \\\n",
       "count  3921.000000  3921.000000  3921.000000  3921.000000  3921.000000   \n",
       "mean      0.277990     0.048457     0.132874     1.467228     0.038001   \n",
       "std       0.448066     0.450848     0.718518     5.022298     0.267899   \n",
       "min       0.000000     0.000000     0.000000     0.000000     0.000000   \n",
       "25%       0.000000     0.000000     0.000000     0.000000     0.000000   \n",
       "50%       0.000000     0.000000     0.000000     0.000000     0.000000   \n",
       "75%       1.000000     0.000000     0.000000     0.000000     0.000000   \n",
       "max       1.000000    20.000000    21.000000    64.000000     9.000000   \n",
       "\n",
       "            viagra     password     num_char  line_breaks       format  \\\n",
       "count  3921.000000  3921.000000  3921.000000  3921.000000  3921.000000   \n",
       "mean      0.002040     0.108136    10.706586   230.658505     0.695231   \n",
       "std       0.127759     0.959931    14.645786   319.304959     0.460368   \n",
       "min       0.000000     0.000000     0.001000     1.000000     0.000000   \n",
       "25%       0.000000     0.000000     1.459000    34.000000     0.000000   \n",
       "50%       0.000000     0.000000     5.856000   119.000000     1.000000   \n",
       "75%       0.000000     0.000000    14.084000   298.000000     1.000000   \n",
       "max       8.000000    28.000000   190.087000  4022.000000     1.000000   \n",
       "\n",
       "           re_subj  exclaim_subj  urgent_subj  exclaim_mess  \n",
       "count  3921.000000   3921.000000  3921.000000   3921.000000  \n",
       "mean      0.261413      0.080337     0.001785      6.584290  \n",
       "std       0.439460      0.271848     0.042220     51.479871  \n",
       "min       0.000000      0.000000     0.000000      0.000000  \n",
       "25%       0.000000      0.000000     0.000000      0.000000  \n",
       "50%       0.000000      0.000000     0.000000      1.000000  \n",
       "75%       1.000000      0.000000     0.000000      4.000000  \n",
       "max       1.000000      1.000000     1.000000   1236.000000  "
      ]
     },
     "execution_count": 3,
     "metadata": {},
     "output_type": "execute_result"
    }
   ],
   "source": [
    "connection = connect(\"DSCI6002_prj2_data.db\")\n",
    "query = \"SELECT * FROM \" + \"prj2\"\n",
    "df = pd.read_sql(query, connection)\n",
    "df.describe()"
   ]
  },
  {
   "cell_type": "markdown",
   "id": "9d601ca9",
   "metadata": {},
   "source": [
    "## Transforming the time attribute into numerical data using the datetime library."
   ]
  },
  {
   "cell_type": "code",
   "execution_count": 4,
   "id": "4002e275",
   "metadata": {},
   "outputs": [],
   "source": [
    "import datetime as dt\n",
    "df['time'] = pd.to_datetime(df['time'])\n",
    "df['time'] = df[\"time\"].map(dt.datetime.toordinal)"
   ]
  },
  {
   "cell_type": "code",
   "execution_count": 5,
   "id": "fbe5c084",
   "metadata": {},
   "outputs": [],
   "source": [
    "df = df.query(\"number != 'none'\")"
   ]
  },
  {
   "cell_type": "markdown",
   "id": "2471ad06",
   "metadata": {},
   "source": [
    "## Converting categorical data into numerical data using one-hot encoding."
   ]
  },
  {
   "cell_type": "code",
   "execution_count": 6,
   "id": "f03db726",
   "metadata": {},
   "outputs": [],
   "source": [
    "df['winner'] = pd.get_dummies(df['winner'])['yes']\n",
    "df['number'] = pd.get_dummies(df['number'])['big']"
   ]
  },
  {
   "cell_type": "markdown",
   "id": "933f0920",
   "metadata": {},
   "source": [
    "## Exploratory Data Analysis"
   ]
  },
  {
   "cell_type": "code",
   "execution_count": 7,
   "id": "4f2cd815",
   "metadata": {},
   "outputs": [
    {
     "name": "stderr",
     "output_type": "stream",
     "text": [
      "C:\\Users\\bnsap\\anaconda3\\lib\\site-packages\\seaborn\\_decorators.py:36: FutureWarning: Pass the following variable as a keyword arg: x. From version 0.12, the only valid positional argument will be `data`, and passing other arguments without an explicit keyword will result in an error or misinterpretation.\n",
      "  warnings.warn(\n"
     ]
    },
    {
     "data": {
      "text/plain": [
       "<AxesSubplot:xlabel='spam', ylabel='count'>"
      ]
     },
     "execution_count": 7,
     "metadata": {},
     "output_type": "execute_result"
    },
    {
     "data": {
      "image/png": "[encoded data removed]",
      "text/plain": [
       "<Figure size 640x480 with 1 Axes>"
      ]
     },
     "metadata": {},
     "output_type": "display_data"
    }
   ],
   "source": [
    "sns.countplot(df[\"spam\"])"
   ]
  },
  {
   "cell_type": "code",
   "execution_count": 8,
   "id": "78749b08",
   "metadata": {},
   "outputs": [
    {
     "data": {
      "text/plain": [
       "<AxesSubplot:title={'center':'line_breaks'}, xlabel='winner'>"
      ]
     },
     "execution_count": 8,
     "metadata": {},
     "output_type": "execute_result"
    },
    {
     "data": {
      "image/png": "[encoded data removed]",
      "text/plain": [
       "<Figure size 800x800 with 1 Axes>"
      ]
     },
     "metadata": {},
     "output_type": "display_data"
    }
   ],
   "source": [
    "df.boxplot(column=['line_breaks'],by='winner',grid=False,figsize=(8,8),fontsize=20)"
   ]
  },
  {
   "cell_type": "code",
   "execution_count": 9,
   "id": "3a9e89e9",
   "metadata": {},
   "outputs": [
    {
     "data": {
      "image/png": "[encoded data removed]",
      "text/plain": [
       "<Figure size 640x480 with 1 Axes>"
      ]
     },
     "metadata": {},
     "output_type": "display_data"
    }
   ],
   "source": [
    "a= df[\"spam\"].value_counts(normalize=True).plot.pie()"
   ]
  },
  {
   "cell_type": "markdown",
   "id": "1e49125e",
   "metadata": {},
   "source": [
    "# 4. Logistic Regression Model"
   ]
  },
  {
   "cell_type": "markdown",
   "id": "235b17d7",
   "metadata": {},
   "source": [
    "## Dividing the dataset into a training set and a testing set."
   ]
  },
  {
   "cell_type": "code",
   "execution_count": 10,
   "id": "34f314d6",
   "metadata": {},
   "outputs": [
    {
     "name": "stdout",
     "output_type": "stream",
     "text": [
      "No. of training examples: 2698\n",
      "No. of testing examples: 674\n"
     ]
    }
   ],
   "source": [
    "test_data = df.sample(frac=0.2)\n",
    "train_data = df.drop(test_data.index)\n",
    "\n",
    "print(f\"No. of training examples: {train_data.shape[0]}\")\n",
    "print(f\"No. of testing examples: {test_data.shape[0]}\")"
   ]
  },
  {
   "cell_type": "markdown",
   "id": "3818442a",
   "metadata": {},
   "source": [
    "## Using the stats.model library to train the model."
   ]
  },
  {
   "cell_type": "code",
   "execution_count": 11,
   "id": "ccb5a8ae",
   "metadata": {},
   "outputs": [],
   "source": [
    "Xtrain = train_data[['to_multiple', 'from', 'cc', 'sent_email', 'time',\n",
    "       'image', 'attach', 'dollar', 'winner', 'inherit', 'viagra', 'password',\n",
    "       'num_char', 'line_breaks', 'format', 're_subj', 'exclaim_subj',\n",
    "       'urgent_subj', 'exclaim_mess', 'number']]\n",
    "ytrain = train_data[['spam']]\n",
    "\n",
    "log_reg = sm.GLM(ytrain, Xtrain, family = sm.families.Binomial(link = sm.families.links.logit())).fit()"
   ]
  },
  {
   "cell_type": "markdown",
   "id": "10f5ea42",
   "metadata": {},
   "source": [
    "## Vanilla code for Logistic regression (without using any libraries)"
   ]
  },
  {
   "cell_type": "markdown",
   "id": "2124a1f9",
   "metadata": {},
   "source": [
    "### Sigmoid function"
   ]
  },
  {
   "cell_type": "code",
   "execution_count": 12,
   "id": "828370d4",
   "metadata": {},
   "outputs": [],
   "source": [
    "def sigmoid(z):\n",
    "    return 1 / (1 + np.exp(-z))"
   ]
  },
  {
   "cell_type": "markdown",
   "id": "5f94fe61",
   "metadata": {},
   "source": [
    "### Prediction"
   ]
  },
  {
   "cell_type": "code",
   "execution_count": 13,
   "id": "ea1e11f6",
   "metadata": {},
   "outputs": [],
   "source": [
    "def predict(X, w):\n",
    "    z = np.dot(X, w[:-1,:]) + w[-1]\n",
    "    probs = sigmoid(z)\n",
    "        \n",
    "    # Return the class with the highest probability\n",
    "    return np.where(probs >= 0.5, 1, 0)"
   ]
  },
  {
   "cell_type": "markdown",
   "id": "fd159865",
   "metadata": {},
   "source": [
    "### Learning of the model using the gradient descent (learning rate = 0.01)"
   ]
  },
  {
   "cell_type": "code",
   "execution_count": 14,
   "id": "f2843323",
   "metadata": {},
   "outputs": [],
   "source": [
    "def fit(X, y, learning_rate=0.01, num_iterations=10000):\n",
    "    # Add a bias column to X\n",
    "    X = np.c_[np.ones((X.shape[0], 1)), X]\n",
    "    w = np.random.randn(X.shape[1], 1)\n",
    "\n",
    "    for i in range(num_iterations):\n",
    "        z = np.dot(X, w)\n",
    "        probs = sigmoid(z)\n",
    "        error = probs - y\n",
    "        \n",
    "        # Calculate the gradient of the error with respect to the weights\n",
    "        gradient = np.dot(X.T, error)\n",
    "        \n",
    "        # Update the weights using the gradient and the learning rate\n",
    "        w -= learning_rate * gradient\n",
    "    \n",
    "    return w"
   ]
  },
  {
   "cell_type": "code",
   "execution_count": 15,
   "id": "ac07a0a8",
   "metadata": {},
   "outputs": [
    {
     "name": "stderr",
     "output_type": "stream",
     "text": [
      "C:\\Users\\bnsap\\AppData\\Local\\Temp\\ipykernel_11028\\3196251242.py:2: RuntimeWarning: overflow encountered in exp\n",
      "  return 1 / (1 + np.exp(-z))\n"
     ]
    }
   ],
   "source": [
    "X = Xtrain.to_numpy()\n",
    "y = ytrain.to_numpy()\n",
    "w = fit(X, y)\n",
    "predictions = predict(X, w)"
   ]
  },
  {
   "cell_type": "markdown",
   "id": "e9c49b93",
   "metadata": {},
   "source": [
    "## Summary of model generated by stats.model"
   ]
  },
  {
   "cell_type": "code",
   "execution_count": 16,
   "id": "bad1ec7f",
   "metadata": {
    "scrolled": true
   },
   "outputs": [
    {
     "data": {
      "text/html": [
       "<table class=\"simpletable\">\n",
       "<caption>Generalized Linear Model Regression Results</caption>\n",
       "<tr>\n",
       "  <th>Dep. Variable:</th>         <td>spam</td>       <th>  No. Observations:  </th>  <td>  2698</td> \n",
       "</tr>\n",
       "<tr>\n",
       "  <th>Model:</th>                  <td>GLM</td>       <th>  Df Residuals:      </th>  <td>  2678</td> \n",
       "</tr>\n",
       "<tr>\n",
       "  <th>Model Family:</th>        <td>Binomial</td>     <th>  Df Model:          </th>  <td>    19</td> \n",
       "</tr>\n",
       "<tr>\n",
       "  <th>Link Function:</th>         <td>logit</td>      <th>  Scale:             </th> <td>  1.0000</td>\n",
       "</tr>\n",
       "<tr>\n",
       "  <th>Method:</th>                <td>IRLS</td>       <th>  Log-Likelihood:    </th> <td> -465.55</td>\n",
       "</tr>\n",
       "<tr>\n",
       "  <th>Date:</th>            <td>Sat, 17 Dec 2022</td> <th>  Deviance:          </th> <td>  931.11</td>\n",
       "</tr>\n",
       "<tr>\n",
       "  <th>Time:</th>                <td>16:44:33</td>     <th>  Pearson chi2:      </th> <td>2.51e+03</td>\n",
       "</tr>\n",
       "<tr>\n",
       "  <th>No. Iterations:</th>         <td>26</td>        <th>  Pseudo R-squ. (CS):</th>  <td>0.1195</td> \n",
       "</tr>\n",
       "<tr>\n",
       "  <th>Covariance Type:</th>     <td>nonrobust</td>    <th>                     </th>     <td> </td>   \n",
       "</tr>\n",
       "</table>\n",
       "<table class=\"simpletable\">\n",
       "<tr>\n",
       "        <td></td>          <th>coef</th>     <th>std err</th>      <th>z</th>      <th>P>|z|</th>  <th>[0.025</th>    <th>0.975]</th>  \n",
       "</tr>\n",
       "<tr>\n",
       "  <th>to_multiple</th>  <td>   -3.6643</td> <td>    0.728</td> <td>   -5.036</td> <td> 0.000</td> <td>   -5.090</td> <td>   -2.238</td>\n",
       "</tr>\n",
       "<tr>\n",
       "  <th>from</th>         <td>-1142.7292</td> <td> 2327.656</td> <td>   -0.491</td> <td> 0.623</td> <td>-5704.852</td> <td> 3419.394</td>\n",
       "</tr>\n",
       "<tr>\n",
       "  <th>cc</th>           <td>   -0.0144</td> <td>    0.056</td> <td>   -0.258</td> <td> 0.796</td> <td>   -0.124</td> <td>    0.095</td>\n",
       "</tr>\n",
       "<tr>\n",
       "  <th>sent_email</th>   <td>  -40.1577</td> <td> 2.34e+04</td> <td>   -0.002</td> <td> 0.999</td> <td>-4.59e+04</td> <td> 4.58e+04</td>\n",
       "</tr>\n",
       "<tr>\n",
       "  <th>time</th>         <td>    0.0016</td> <td>    0.003</td> <td>    0.490</td> <td> 0.624</td> <td>   -0.005</td> <td>    0.008</td>\n",
       "</tr>\n",
       "<tr>\n",
       "  <th>image</th>        <td>   -1.2573</td> <td>    0.909</td> <td>   -1.383</td> <td> 0.167</td> <td>   -3.039</td> <td>    0.524</td>\n",
       "</tr>\n",
       "<tr>\n",
       "  <th>attach</th>       <td>    0.3463</td> <td>    0.240</td> <td>    1.440</td> <td> 0.150</td> <td>   -0.125</td> <td>    0.818</td>\n",
       "</tr>\n",
       "<tr>\n",
       "  <th>dollar</th>       <td>   -0.0737</td> <td>    0.034</td> <td>   -2.174</td> <td> 0.030</td> <td>   -0.140</td> <td>   -0.007</td>\n",
       "</tr>\n",
       "<tr>\n",
       "  <th>winner</th>       <td>    2.2530</td> <td>    0.460</td> <td>    4.894</td> <td> 0.000</td> <td>    1.351</td> <td>    3.155</td>\n",
       "</tr>\n",
       "<tr>\n",
       "  <th>inherit</th>      <td>    0.2147</td> <td>    0.171</td> <td>    1.255</td> <td> 0.209</td> <td>   -0.121</td> <td>    0.550</td>\n",
       "</tr>\n",
       "<tr>\n",
       "  <th>viagra</th>       <td>    3.7016</td> <td> 7.34e+04</td> <td> 5.04e-05</td> <td> 1.000</td> <td>-1.44e+05</td> <td> 1.44e+05</td>\n",
       "</tr>\n",
       "<tr>\n",
       "  <th>password</th>     <td>   -0.4665</td> <td>    0.270</td> <td>   -1.729</td> <td> 0.084</td> <td>   -0.995</td> <td>    0.062</td>\n",
       "</tr>\n",
       "<tr>\n",
       "  <th>num_char</th>     <td>    0.0213</td> <td>    0.035</td> <td>    0.612</td> <td> 0.541</td> <td>   -0.047</td> <td>    0.090</td>\n",
       "</tr>\n",
       "<tr>\n",
       "  <th>line_breaks</th>  <td>   -0.0042</td> <td>    0.002</td> <td>   -2.422</td> <td> 0.015</td> <td>   -0.008</td> <td>   -0.001</td>\n",
       "</tr>\n",
       "<tr>\n",
       "  <th>format</th>       <td>   -0.6495</td> <td>    0.208</td> <td>   -3.128</td> <td> 0.002</td> <td>   -1.056</td> <td>   -0.243</td>\n",
       "</tr>\n",
       "<tr>\n",
       "  <th>re_subj</th>      <td>   -1.6850</td> <td>    0.479</td> <td>   -3.518</td> <td> 0.000</td> <td>   -2.624</td> <td>   -0.746</td>\n",
       "</tr>\n",
       "<tr>\n",
       "  <th>exclaim_subj</th> <td>   -0.0955</td> <td>    0.335</td> <td>   -0.285</td> <td> 0.776</td> <td>   -0.753</td> <td>    0.562</td>\n",
       "</tr>\n",
       "<tr>\n",
       "  <th>urgent_subj</th>  <td>   22.3980</td> <td> 1.66e+04</td> <td>    0.001</td> <td> 0.999</td> <td>-3.25e+04</td> <td> 3.25e+04</td>\n",
       "</tr>\n",
       "<tr>\n",
       "  <th>exclaim_mess</th> <td>    0.0121</td> <td>    0.002</td> <td>    5.431</td> <td> 0.000</td> <td>    0.008</td> <td>    0.017</td>\n",
       "</tr>\n",
       "<tr>\n",
       "  <th>number</th>       <td>    0.7350</td> <td>    0.225</td> <td>    3.263</td> <td> 0.001</td> <td>    0.294</td> <td>    1.176</td>\n",
       "</tr>\n",
       "</table>"
      ],
      "text/plain": [
       "<class 'statsmodels.iolib.summary.Summary'>\n",
       "\"\"\"\n",
       "                 Generalized Linear Model Regression Results                  \n",
       "==============================================================================\n",
       "Dep. Variable:                   spam   No. Observations:                 2698\n",
       "Model:                            GLM   Df Residuals:                     2678\n",
       "Model Family:                Binomial   Df Model:                           19\n",
       "Link Function:                  logit   Scale:                          1.0000\n",
       "Method:                          IRLS   Log-Likelihood:                -465.55\n",
       "Date:                Sat, 17 Dec 2022   Deviance:                       931.11\n",
       "Time:                        16:44:33   Pearson chi2:                 2.51e+03\n",
       "No. Iterations:                    26   Pseudo R-squ. (CS):             0.1195\n",
       "Covariance Type:            nonrobust                                         \n",
       "================================================================================\n",
       "                   coef    std err          z      P>|z|      [0.025      0.975]\n",
       "--------------------------------------------------------------------------------\n",
       "to_multiple     -3.6643      0.728     -5.036      0.000      -5.090      -2.238\n",
       "from         -1142.7292   2327.656     -0.491      0.623   -5704.852    3419.394\n",
       "cc              -0.0144      0.056     -0.258      0.796      -0.124       0.095\n",
       "sent_email     -40.1577   2.34e+04     -0.002      0.999   -4.59e+04    4.58e+04\n",
       "time             0.0016      0.003      0.490      0.624      -0.005       0.008\n",
       "image           -1.2573      0.909     -1.383      0.167      -3.039       0.524\n",
       "attach           0.3463      0.240      1.440      0.150      -0.125       0.818\n",
       "dollar          -0.0737      0.034     -2.174      0.030      -0.140      -0.007\n",
       "winner           2.2530      0.460      4.894      0.000       1.351       3.155\n",
       "inherit          0.2147      0.171      1.255      0.209      -0.121       0.550\n",
       "viagra           3.7016   7.34e+04   5.04e-05      1.000   -1.44e+05    1.44e+05\n",
       "password        -0.4665      0.270     -1.729      0.084      -0.995       0.062\n",
       "num_char         0.0213      0.035      0.612      0.541      -0.047       0.090\n",
       "line_breaks     -0.0042      0.002     -2.422      0.015      -0.008      -0.001\n",
       "format          -0.6495      0.208     -3.128      0.002      -1.056      -0.243\n",
       "re_subj         -1.6850      0.479     -3.518      0.000      -2.624      -0.746\n",
       "exclaim_subj    -0.0955      0.335     -0.285      0.776      -0.753       0.562\n",
       "urgent_subj     22.3980   1.66e+04      0.001      0.999   -3.25e+04    3.25e+04\n",
       "exclaim_mess     0.0121      0.002      5.431      0.000       0.008       0.017\n",
       "number           0.7350      0.225      3.263      0.001       0.294       1.176\n",
       "================================================================================\n",
       "\"\"\""
      ]
     },
     "execution_count": 16,
     "metadata": {},
     "output_type": "execute_result"
    }
   ],
   "source": [
    "log_reg.summary()"
   ]
  },
  {
   "cell_type": "markdown",
   "id": "ae2449e8",
   "metadata": {},
   "source": [
    "## Examining the coefficients and how they influence the output.\n",
    "\n",
    " Hypothesis testing for the coefficients:\n",
    "   $$ H_0 : \\beta_{coefficient} = 0 $$\n",
    "   $$ H_1 : \\beta_{coefficient} \\neq 0 $$\n",
    "\n",
    "In hypothesis testing for the coefficients of the model, the null hypothesis is that the coefficient has no effect on the output (i.e., it is equal to zero), while the alternative hypothesis is that the coefficient does have an effect on the output (i.e., it is not equal to zero). If the p-value of a coefficient is greater than 0.05, it means that there is not enough evidence to reject the null hypothesis, and therefore it can be concluded that the coefficient does not have a significant effect on the output. In the summary table, some of the coefficients have p-values greater than 0.05, indicating that they do not have a significant effect on the output of the model."
   ]
  },
  {
   "cell_type": "markdown",
   "id": "266f7402",
   "metadata": {},
   "source": [
    "## Evaluating the model using the test dataset."
   ]
  },
  {
   "cell_type": "markdown",
   "id": "80cedaeb",
   "metadata": {},
   "source": [
    "### predictions using stats model"
   ]
  },
  {
   "cell_type": "code",
   "execution_count": 17,
   "id": "cc1f1db7",
   "metadata": {},
   "outputs": [],
   "source": [
    "Xtest = test_data[['to_multiple', 'from', 'cc', 'sent_email', 'time',\n",
    "       'image', 'attach', 'dollar', 'winner', 'inherit', 'viagra', 'password',\n",
    "       'num_char', 'line_breaks', 'format', 're_subj', 'exclaim_subj',\n",
    "       'urgent_subj', 'exclaim_mess', 'number']]\n",
    "ytest = test_data['spam']\n",
    "\n",
    "yhat = log_reg.predict(Xtest)\n",
    "prediction = list(map(round, yhat))"
   ]
  },
  {
   "cell_type": "markdown",
   "id": "433aa43b",
   "metadata": {},
   "source": [
    "### predictions using vanilla code"
   ]
  },
  {
   "cell_type": "code",
   "execution_count": 18,
   "id": "eecc94c1",
   "metadata": {},
   "outputs": [
    {
     "name": "stderr",
     "output_type": "stream",
     "text": [
      "C:\\Users\\bnsap\\AppData\\Local\\Temp\\ipykernel_11028\\3196251242.py:2: RuntimeWarning: overflow encountered in exp\n",
      "  return 1 / (1 + np.exp(-z))\n"
     ]
    }
   ],
   "source": [
    "predictions = predict(Xtest.to_numpy(), w)"
   ]
  },
  {
   "cell_type": "markdown",
   "id": "ba861ede",
   "metadata": {},
   "source": [
    "# 5. Evaluation"
   ]
  },
  {
   "cell_type": "markdown",
   "id": "c2f1bea5",
   "metadata": {},
   "source": [
    "## 1. Calculating the confusion matrix for stats model"
   ]
  },
  {
   "cell_type": "code",
   "execution_count": 19,
   "id": "92407486",
   "metadata": {},
   "outputs": [],
   "source": [
    "cm = np.array([[0,0],[0,0]])\n",
    "for i,j in zip(ytest, prediction):\n",
    "    if i == j and i == 0:\n",
    "        cm[0][0] = cm[0][0] + 1\n",
    "    elif i == j and j == 1:\n",
    "        cm[1][1] = cm[1][1] + 1\n",
    "    elif i != j and i == 0:\n",
    "        cm[0][1] = cm[0][1] + 1\n",
    "    else:\n",
    "        cm[1][0] = cm[1][0] + 1"
   ]
  },
  {
   "cell_type": "code",
   "execution_count": 20,
   "id": "95bddd15",
   "metadata": {},
   "outputs": [
    {
     "data": {
      "text/plain": [
       "array([[625,   2],\n",
       "       [ 40,   7]])"
      ]
     },
     "execution_count": 20,
     "metadata": {},
     "output_type": "execute_result"
    }
   ],
   "source": [
    "cm"
   ]
  },
  {
   "cell_type": "code",
   "execution_count": 21,
   "id": "ceaebfed",
   "metadata": {},
   "outputs": [],
   "source": [
    "TP = cm[1][1]\n",
    "TN = cm[0][0]\n",
    "FP = cm[0][1]\n",
    "FN = cm[1][0]"
   ]
  },
  {
   "cell_type": "markdown",
   "id": "ca27fbae",
   "metadata": {},
   "source": [
    "## Accuracy"
   ]
  },
  {
   "cell_type": "code",
   "execution_count": 22,
   "id": "c8ec517a",
   "metadata": {},
   "outputs": [],
   "source": [
    "accuracy = (TP + TN)/(TP + TN + FP + FN)"
   ]
  },
  {
   "cell_type": "code",
   "execution_count": 23,
   "id": "9450f785",
   "metadata": {},
   "outputs": [
    {
     "data": {
      "text/plain": [
       "0.9376854599406528"
      ]
     },
     "execution_count": 23,
     "metadata": {},
     "output_type": "execute_result"
    }
   ],
   "source": [
    "accuracy"
   ]
  },
  {
   "cell_type": "markdown",
   "id": "600f3db7",
   "metadata": {},
   "source": [
    "## Sensitivity"
   ]
  },
  {
   "cell_type": "code",
   "execution_count": 24,
   "id": "25601d29",
   "metadata": {},
   "outputs": [],
   "source": [
    "sensitivity = TP/(TP + FN)"
   ]
  },
  {
   "cell_type": "code",
   "execution_count": 25,
   "id": "7f5946c9",
   "metadata": {},
   "outputs": [
    {
     "data": {
      "text/plain": [
       "0.14893617021276595"
      ]
     },
     "execution_count": 25,
     "metadata": {},
     "output_type": "execute_result"
    }
   ],
   "source": [
    "sensitivity"
   ]
  },
  {
   "cell_type": "markdown",
   "id": "310457df",
   "metadata": {},
   "source": [
    "## Specificity"
   ]
  },
  {
   "cell_type": "code",
   "execution_count": 26,
   "id": "39e1baa1",
   "metadata": {},
   "outputs": [],
   "source": [
    "specificity = TN/(TN + FP)"
   ]
  },
  {
   "cell_type": "code",
   "execution_count": 27,
   "id": "e9e1b728",
   "metadata": {},
   "outputs": [
    {
     "data": {
      "text/plain": [
       "0.9968102073365231"
      ]
     },
     "execution_count": 27,
     "metadata": {},
     "output_type": "execute_result"
    }
   ],
   "source": [
    "specificity"
   ]
  },
  {
   "cell_type": "markdown",
   "id": "43734f96",
   "metadata": {},
   "source": [
    "## Precision"
   ]
  },
  {
   "cell_type": "code",
   "execution_count": 28,
   "id": "42d92117",
   "metadata": {},
   "outputs": [],
   "source": [
    "Precision = TP/(TP + FP)"
   ]
  },
  {
   "cell_type": "code",
   "execution_count": 29,
   "id": "150ee5a6",
   "metadata": {},
   "outputs": [
    {
     "data": {
      "text/plain": [
       "0.7777777777777778"
      ]
     },
     "execution_count": 29,
     "metadata": {},
     "output_type": "execute_result"
    }
   ],
   "source": [
    "Precision"
   ]
  },
  {
   "cell_type": "markdown",
   "id": "5bb4f27b",
   "metadata": {},
   "source": [
    "## 2. Calculating the confusion matrix vanilla code"
   ]
  },
  {
   "cell_type": "code",
   "execution_count": 30,
   "id": "ed1b7838",
   "metadata": {},
   "outputs": [],
   "source": [
    "cm = np.array([[0,0],[0,0]])\n",
    "for i,j in zip(predictions, ytest):\n",
    "    if i == j and i == 0:\n",
    "        cm[0][0] = cm[0][0] + 1\n",
    "    elif i == j and j == 1:\n",
    "        cm[1][1] = cm[1][1] + 1\n",
    "    elif i != j and i == 0:\n",
    "        cm[0][1] = cm[0][1] + 1\n",
    "    else:\n",
    "        cm[1][0] = cm[1][0] + 1"
   ]
  },
  {
   "cell_type": "code",
   "execution_count": 31,
   "id": "118367b3",
   "metadata": {},
   "outputs": [],
   "source": [
    "TP = cm[1][1]\n",
    "TN = cm[0][0]\n",
    "FP = cm[0][1]\n",
    "FN = cm[1][0]"
   ]
  },
  {
   "cell_type": "code",
   "execution_count": 32,
   "id": "aa8fe2e5",
   "metadata": {},
   "outputs": [],
   "source": [
    "accuracy = (TP + TN)/(TP + TN + FP + FN)"
   ]
  },
  {
   "cell_type": "code",
   "execution_count": 33,
   "id": "f8e46058",
   "metadata": {},
   "outputs": [
    {
     "data": {
      "text/plain": [
       "array([[627,  47],\n",
       "       [  0,   0]])"
      ]
     },
     "execution_count": 33,
     "metadata": {},
     "output_type": "execute_result"
    }
   ],
   "source": [
    "cm"
   ]
  },
  {
   "cell_type": "code",
   "execution_count": 57,
   "id": "8515fc31",
   "metadata": {},
   "outputs": [
    {
     "data": {
      "text/plain": [
       "0.9243323442136498"
      ]
     },
     "execution_count": 57,
     "metadata": {},
     "output_type": "execute_result"
    }
   ],
   "source": [
    "accuracy"
   ]
  },
  {
   "cell_type": "markdown",
   "id": "879e61f4",
   "metadata": {},
   "source": [
    "# Conclusion"
   ]
  },
  {
   "cell_type": "markdown",
   "id": "276f5fdb",
   "metadata": {},
   "source": [
    "In this model, a threshold of 0.5 or 50% is used to predict whether a given email is spam or not. The accuracy of the model is approximately 93%, which may vary slightly due to the random division of the dataset. This model has a specificity of 99.51%, meaning it is very accurate at correctly identifying negative examples (emails that are not spam). Based on these results, it can be concluded that the logistic regression model is effective at classifying whether a given email is spam or not."
   ]
  },
  {
   "cell_type": "markdown",
   "id": "f3937108",
   "metadata": {},
   "source": [
    "# Youtube Link for the presentation"
   ]
  },
  {
   "cell_type": "markdown",
   "id": "cdf32836",
   "metadata": {},
   "source": [
    "https://youtu.be/Tm6J7w5aofM"
   ]
  }
 ],
 "metadata": {
  "kernelspec": {
   "display_name": "Python 3 (ipykernel)",
   "language": "python",
   "name": "python3"
  },
  "language_info": {
   "codemirror_mode": {
    "name": "ipython",
    "version": 3
   },
   "file_extension": ".py",
   "mimetype": "text/x-python",
   "name": "python",
   "nbconvert_exporter": "python",
   "pygments_lexer": "ipython3",
   "version": "3.9.13"
  }
 },
 "nbformat": 4,
 "nbformat_minor": 5
}
